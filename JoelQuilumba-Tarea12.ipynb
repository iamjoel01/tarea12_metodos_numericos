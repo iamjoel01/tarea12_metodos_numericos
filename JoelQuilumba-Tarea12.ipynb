{
 "cells": [
  {
   "cell_type": "raw",
   "id": "ca689e69-68e6-4443-b6cc-22307ac2096b",
   "metadata": {},
   "source": [
    "---\n",
    "title: \"Escuela Politécnica Nacional\"  \n",
    "subtitle: \"Metodos Numericos - [Tarea 12] Ejercicios Unidad 05-A | ODE Método de Euler\"\n",
    "author: \"Quilumba Morocho Joel Patricio \"\n",
    "date: \"2024-08-15\"\n",
    "format:\n",
    "  pdf:\n",
    "    toc: True\n",
    "    number-sections: true\n",
    "    colorlinks: true\n",
    "    lang: \"es\"\n",
    "---"
   ]
  },
  {
   "cell_type": "markdown",
   "id": "f0975cf1-ff17-435a-8016-3c5b0868ce32",
   "metadata": {},
   "source": [
    "[Link del Repositorio de Github de la Tarea 12 - Joel Quilumba](https://github.com/iamjoel01/tarea12_metodos_numericos)"
   ]
  },
  {
   "cell_type": "markdown",
   "id": "8dcc451c-5225-426c-9284-c0d0eaeea762",
   "metadata": {},
   "source": [
    "‎ ‎   \n",
    "‎   \n",
    "‎   \n",
    "‎   \n",
    "‎   \n",
    "‎   \n",
    "‎   \n",
    "‎   \n",
    "‎   \n",
    "‎   \n",
    "‎   \n",
    "‎   \n",
    "‎   \n"
   ]
  },
  {
   "cell_type": "markdown",
   "id": "556c4d67-2900-4b98-833f-914fe1e475bf",
   "metadata": {},
   "source": [
    "‎ ‎   \n",
    "‎   \n",
    "‎   \n",
    "‎   \n",
    "‎   \n",
    "‎   \n",
    "‎   \n",
    "‎   \n",
    "‎   \n",
    "‎   \n",
    "‎   \n",
    "‎   \n",
    "‎   \n"
   ]
  },
  {
   "cell_type": "markdown",
   "id": "f33c4509-c09d-40b5-b94d-1f5b4cd6baa4",
   "metadata": {},
   "source": [
    "# CONJUNTO DE EJERCICIOS"
   ]
  },
  {
   "cell_type": "markdown",
   "id": "d1ab375d-3978-4b6b-8f1d-6c8b95cede6a",
   "metadata": {},
   "source": [
    "## Use el método de Euler para aproximar las soluciones para cada uno de los siguientes problemas de valor inicial."
   ]
  },
  {
   "cell_type": "code",
   "execution_count": 64,
   "id": "45afff8c-7228-4004-adee-ed89830657d9",
   "metadata": {},
   "outputs": [
    {
     "name": "stdout",
     "output_type": "stream",
     "text": [
      "[08-09 17:22:20][INFO] 2024-08-09 17:22:20.578977\n"
     ]
    }
   ],
   "source": [
    "import logging\n",
    "from sys import stdout\n",
    "from datetime import datetime\n",
    "from typing import Callable\n",
    "from math import exp, cos, sin,tan,log\n",
    "\n",
    "logging.basicConfig(\n",
    "    level=logging.INFO,\n",
    "    format=\"[%(asctime)s][%(levelname)s] %(message)s\",\n",
    "    stream=stdout,\n",
    "    datefmt=\"%m-%d %H:%M:%S\",\n",
    ")\n",
    "\n",
    "logging.info(datetime.now())\n",
    "\n",
    "def ODE_euler(\n",
    "    *,\n",
    "    a: float,\n",
    "    b: float,\n",
    "    f: Callable[[float, float], float],\n",
    "    y_t0: float,\n",
    "    h: float,\n",
    ") -> tuple[list[float], list[float]]:\n",
    "    N = int((b - a) / h) \n",
    "    t = a\n",
    "    ts = [t]\n",
    "    ys = [y_t0]\n",
    "\n",
    "    for _ in range(N):\n",
    "        y = ys[-1]\n",
    "        y += h * f(t, y)\n",
    "        ys.append(y)\n",
    "\n",
    "        t += h\n",
    "        ts.append(t)\n",
    "    return ys, ts"
   ]
  },
  {
   "cell_type": "markdown",
   "id": "6c937990-8a43-42c5-a4ad-356392d2a615",
   "metadata": {},
   "source": [
    "### a) $y' = t e^{3t} - 2y , 0 \\leq t \\leq 1 ,  y(0) = 0$, con $ h = 0.5 $"
   ]
  },
  {
   "cell_type": "code",
   "execution_count": 67,
   "id": "e98fa922-2854-4776-9fcd-f5cace90e72a",
   "metadata": {},
   "outputs": [
    {
     "name": "stdout",
     "output_type": "stream",
     "text": [
      "[08-09 17:22:21][INFO] Aproximaciones por el metodo de euler:\n",
      "[08-09 17:22:21][INFO] t = 0.00, y = 0.0000\n",
      "[08-09 17:22:21][INFO] t = 0.50, y = 0.0000\n",
      "[08-09 17:22:21][INFO] t = 1.00, y = 1.1204\n"
     ]
    }
   ],
   "source": [
    "def problem_a(t, y):\n",
    "    return t * exp(3 * t) - 2 * y\n",
    "\n",
    "a = 0.0  \n",
    "b = 1.0  \n",
    "y_t0 = 0.0  \n",
    "h = 0.5  \n",
    "ys_a, ts_a = ODE_euler(a=a, b=b, f=problem_a, y_t0=y_t0, h=h)\n",
    "logging.info(f\"Aproximaciones por el metodo de euler:\")\n",
    "for t, y in zip(ts_a, ys_a):\n",
    "    logging.info(f\"t = {t:.2f}, y = {y:.4f}\")"
   ]
  },
  {
   "cell_type": "markdown",
   "id": "ebf8ccab-5215-40dc-bd37-7d2a7f490e3d",
   "metadata": {},
   "source": [
    "### b)$y' = 1+{(t-y)}^2, 2 \\leq t \\leq 3 ,  y(2) = 1$, con $ h = 0.5 $"
   ]
  },
  {
   "cell_type": "code",
   "execution_count": 70,
   "id": "f37923b0-7bd2-4668-8233-784fe22e2805",
   "metadata": {},
   "outputs": [
    {
     "name": "stdout",
     "output_type": "stream",
     "text": [
      "[08-09 17:22:22][INFO] Aproximaciones por el metodo de Euler:\n",
      "[08-09 17:22:22][INFO] t = 2.00, y = 1.0000\n",
      "[08-09 17:22:22][INFO] t = 2.50, y = 2.0000\n",
      "[08-09 17:22:22][INFO] t = 3.00, y = 2.6250\n"
     ]
    }
   ],
   "source": [
    "def problem_b(t, y):\n",
    "    return 1 + (t - y)**2\n",
    "a = 2.0  \n",
    "b = 3.0  \n",
    "y_t0 = 1.0  \n",
    "h = 0.5  \n",
    "ys_b, ts_b = ODE_euler(a=a, b=b, f=problem_b, y_t0=y_t0, h=h)\n",
    "\n",
    "logging.info(f\"Aproximaciones por el metodo de Euler:\")\n",
    "for t, y in zip(ts_b, ys_b):\n",
    "    logging.info(f\"t = {t:.2f}, y = {y:.4f}\")"
   ]
  },
  {
   "cell_type": "markdown",
   "id": "527b9959-89bd-421a-9455-3a392474898a",
   "metadata": {},
   "source": [
    "### c) $y' = 1+y/t,1 \\leq t \\leq 2 ,  y(1) = 2$, con $ h = 0.25 $"
   ]
  },
  {
   "cell_type": "code",
   "execution_count": 73,
   "id": "57e95c35-c8b2-4044-871a-ee1fa7afb1ce",
   "metadata": {},
   "outputs": [
    {
     "name": "stdout",
     "output_type": "stream",
     "text": [
      "[08-09 17:22:22][INFO] Aproximaciones por el metodo de Euler:\n",
      "[08-09 17:22:22][INFO] t = 1.00, y = 2.0000\n",
      "[08-09 17:22:22][INFO] t = 1.25, y = 2.7500\n",
      "[08-09 17:22:22][INFO] t = 1.50, y = 3.5500\n",
      "[08-09 17:22:22][INFO] t = 1.75, y = 4.3917\n",
      "[08-09 17:22:22][INFO] t = 2.00, y = 5.2690\n"
     ]
    }
   ],
   "source": [
    "\n",
    "def problem_c(t, y):\n",
    "    return 1 + y / t\n",
    "\n",
    "a = 1.0  \n",
    "b = 2.0  \n",
    "y_t0 = 2.0  \n",
    "h = 0.25  \n",
    "\n",
    "ys_c, ts_c = ODE_euler(a=a, b=b, f=problem_c, y_t0=y_t0, h=h)\n",
    "\n",
    "logging.info(f\"Aproximaciones por el metodo de Euler:\")\n",
    "for t, y in zip(ts_c, ys_c):\n",
    "    logging.info(f\"t = {t:.2f}, y = {y:.4f}\")"
   ]
  },
  {
   "cell_type": "markdown",
   "id": "78db964a-fb0f-4712-82ed-72fd6602ca5b",
   "metadata": {},
   "source": [
    "### d) $y' = cos(2t)+sen(3t) , 0 \\leq t \\leq 1 ,  y(0) = 1$, con $ h = 0.25 $"
   ]
  },
  {
   "cell_type": "code",
   "execution_count": 76,
   "id": "1b275860-a39e-4b17-a98f-c3210417bda2",
   "metadata": {},
   "outputs": [
    {
     "name": "stdout",
     "output_type": "stream",
     "text": [
      "[08-09 17:22:23][INFO] Aproximaciones por el metodo de Euler:\n",
      "[08-09 17:22:23][INFO] t = 0.00, y = 1.0000\n",
      "[08-09 17:22:23][INFO] t = 0.25, y = 1.2500\n",
      "[08-09 17:22:23][INFO] t = 0.50, y = 1.6398\n",
      "[08-09 17:22:23][INFO] t = 0.75, y = 2.0243\n",
      "[08-09 17:22:23][INFO] t = 1.00, y = 2.2365\n"
     ]
    }
   ],
   "source": [
    "def problem_d(t, y):\n",
    "    return cos(2 * t) + sin(3 * t)\n",
    "\n",
    "# Parámetros\n",
    "a = 0.0  \n",
    "b = 1.0  \n",
    "y_t0 = 1.0  \n",
    "h = 0.25  \n",
    "ys_d, ts_d = ODE_euler(a=a, b=b, f=problem_d, y_t0=y_t0, h=h)\n",
    "\n",
    "logging.info(f\"Aproximaciones por el metodo de Euler:\")\n",
    "for t, y in zip(ts_d, ys_d):\n",
    "    logging.info(f\"t = {t:.2f}, y = {y:.4f}\")"
   ]
  },
  {
   "cell_type": "markdown",
   "id": "93e99610-4fbf-4ad9-a6dc-2e0bff658205",
   "metadata": {},
   "source": [
    "## Las soluciones reales para los problemas de valor inicial en el ejercicio 1 se proporcionan aquí. Compare el error real en cada paso."
   ]
  },
  {
   "cell_type": "markdown",
   "id": "b2e448ae-6ea9-4332-8df2-53574b5f2ee8",
   "metadata": {},
   "source": [
    "### a) $y(t)=1/5te^{3t}-1/25e^{3t}+1/25e^{-2t}$"
   ]
  },
  {
   "cell_type": "code",
   "execution_count": 80,
   "id": "ba114020-6d0b-4e2a-9389-b1a2cbc0efdf",
   "metadata": {},
   "outputs": [
    {
     "name": "stdout",
     "output_type": "stream",
     "text": [
      "[08-09 17:22:25][INFO] Resultados del problema (a) usando el método de Euler:\n",
      "[08-09 17:22:25][INFO] t = 0.00, y = 0.0000, exacta = 0.0000, error relativo = inf\n",
      "[08-09 17:22:25][INFO] t = 0.50, y = 0.0000, exacta = 0.2836, error relativo = 1.0000\n",
      "[08-09 17:22:25][INFO] t = 1.00, y = 1.1204, exacta = 3.2191, error relativo = 0.6519\n"
     ]
    }
   ],
   "source": [
    "def problem_a(t, y):\n",
    "    return t * exp(3 * t) - 2 * y\n",
    "\n",
    "def exact_a(t):\n",
    "    return (1 / 5) * t * exp(3 * t) - (1 / 25) * exp(3 * t) + (1 / 25) * exp(-2 * t)\n",
    "a = 0.0\n",
    "b = 1.0\n",
    "y_t0 = 0.0\n",
    "h = 0.5\n",
    "ys_a, ts_a = ODE_euler(a=a, b=b, f=problem_a, y_t0=y_t0, h=h)\n",
    "logging.info(f\"Resultados del problema (a) usando el método de Euler:\")\n",
    "for t, y in zip(ts_a, ys_a):\n",
    "    exact_y = exact_a(t)\n",
    "    error_relativo = abs((exact_y - y) / exact_y) if exact_y != 0 else float('inf')\n",
    "    logging.info(f\"t = {t:.2f}, y = {y:.4f}, exacta = {exact_y:.4f}, error relativo = {error_relativo:.4f}\")"
   ]
  },
  {
   "cell_type": "code",
   "execution_count": 82,
   "id": "94c08c85-de23-42b9-9119-e33b43dc4ff3",
   "metadata": {},
   "outputs": [
    {
     "name": "stdout",
     "output_type": "stream",
     "text": [
      "[08-09 17:22:25][INFO] Solucion:\n",
      "[08-09 17:22:25][INFO] t = 0.00, y = 0.0000, exacta = 0.0000, error real = 0.0000\n",
      "[08-09 17:22:25][INFO] t = 0.50, y = 0.0000, exacta = 0.2836, error real = 0.2836\n",
      "[08-09 17:22:25][INFO] t = 1.00, y = 1.1204, exacta = 3.2191, error real = 2.0987\n"
     ]
    }
   ],
   "source": [
    "f = lambda t, y: t * exp(3 * t) - 2 * y\n",
    "exact_a = lambda t: (1 / 5) * t * exp(3 * t) - (1 / 25) * exp(3 * t) + (1 / 25) * exp(-2 * t)\n",
    "a = 0\n",
    "b = 1\n",
    "y_t0 =0\n",
    "h = 0.5\n",
    "ys_a, ts_a = ODE_euler(a=a, b=b, f=f, y_t0=y_t0, h=h)\n",
    "logging.info(f\"Solucion:\")\n",
    "for t, y in zip(ts_a, ys_a):\n",
    "    exact_y = exact_a(t)\n",
    "    error_real = abs(exact_y - y)\n",
    "    logging.info(f\"t = {t:.2f}, y = {y:.4f}, exacta = {exact_y:.4f}, error real = {error_real:.4f}\")"
   ]
  },
  {
   "cell_type": "markdown",
   "id": "ae4c05da-9ad1-4e8e-887f-56717b38a575",
   "metadata": {},
   "source": [
    "### b) $y(t)=t+\\frac{1}{1-t}$"
   ]
  },
  {
   "cell_type": "code",
   "execution_count": 85,
   "id": "e96960b8-ac14-48fd-9eb8-ac426aaec7ba",
   "metadata": {},
   "outputs": [
    {
     "name": "stdout",
     "output_type": "stream",
     "text": [
      "[08-09 17:22:26][INFO] Resultados del problema (b) usando el método de Euler:\n",
      "[08-09 17:22:26][INFO] t = 2.00, y = 1.0000, exacta = 1.0000, error relativo = 0.0000\n",
      "[08-09 17:22:26][INFO] t = 2.50, y = 2.0000, exacta = 1.8333, error relativo = 0.0909\n",
      "[08-09 17:22:26][INFO] t = 3.00, y = 2.6250, exacta = 2.5000, error relativo = 0.0500\n"
     ]
    }
   ],
   "source": [
    "def problem_b(t, y):\n",
    "    return 1 + (t - y)**2\n",
    "\n",
    "def exact_b(t):\n",
    "    return t + 1 / (1 - t)\n",
    "a = 2.0\n",
    "b = 3.0\n",
    "y_t0 = 1.0\n",
    "h = 0.5\n",
    "ys_b, ts_b = ODE_euler(a=a, b=b, f=problem_b, y_t0=y_t0, h=h)\n",
    "logging.info(f\"Resultados del problema (b) usando el método de Euler:\")\n",
    "for t, y in zip(ts_b, ys_b):\n",
    "    exact_y = exact_b(t)\n",
    "    error_relativo = abs((exact_y - y) / exact_y) if exact_y != 0 else float('inf')\n",
    "    logging.info(f\"t = {t:.2f}, y = {y:.4f}, exacta = {exact_y:.4f}, error relativo = {error_relativo:.4f}\")"
   ]
  },
  {
   "cell_type": "markdown",
   "id": "dc30c428-e3ba-450e-9b73-1af4deab97e1",
   "metadata": {},
   "source": [
    "### c) y(t)=tln(t)+2t"
   ]
  },
  {
   "cell_type": "code",
   "execution_count": 88,
   "id": "afe261ea-3813-41f1-a6a3-0cd175374423",
   "metadata": {},
   "outputs": [
    {
     "name": "stdout",
     "output_type": "stream",
     "text": [
      "[08-09 17:22:27][INFO] Resultados del problema (c) usando el método de Euler:\n",
      "[08-09 17:22:27][INFO] t = 1.00, y = 2.0000, exacta = 2.0000, error relativo = 0.0000\n",
      "[08-09 17:22:27][INFO] t = 1.25, y = 2.7500, exacta = 2.7789, error relativo = 0.0104\n",
      "[08-09 17:22:27][INFO] t = 1.50, y = 3.5500, exacta = 3.6082, error relativo = 0.0161\n",
      "[08-09 17:22:27][INFO] t = 1.75, y = 4.3917, exacta = 4.4793, error relativo = 0.0196\n",
      "[08-09 17:22:27][INFO] t = 2.00, y = 5.2690, exacta = 5.3863, error relativo = 0.0218\n"
     ]
    }
   ],
   "source": [
    "def problem_c(t, y):\n",
    "    return 1 + y / t\n",
    "def exact_c(t):\n",
    "    return t * log(t) + 2 * t\n",
    "a = 1.0\n",
    "b = 2.0\n",
    "y_t0 = 2.0\n",
    "h = 0.25\n",
    "ys_c, ts_c = ODE_euler(a=a, b=b, f=problem_c, y_t0=y_t0, h=h)\n",
    "logging.info(f\"Resultados del problema (c) usando el método de Euler:\")\n",
    "for t, y in zip(ts_c, ys_c):\n",
    "    exact_y = exact_c(t)\n",
    "    error_relativo = abs((exact_y - y) / exact_y) if exact_y != 0 else float('inf')\n",
    "    logging.info(f\"t = {t:.2f}, y = {y:.4f}, exacta = {exact_y:.4f}, error relativo = {error_relativo:.4f}\")"
   ]
  },
  {
   "cell_type": "markdown",
   "id": "b3d69803-ccbf-473e-81ef-fc496819bfba",
   "metadata": {},
   "source": [
    "### d) $y(t)=1/2sen(2t)-1/3cos(3t)+4/3$"
   ]
  },
  {
   "cell_type": "code",
   "execution_count": 91,
   "id": "7c33a901-28d9-4eb7-9d3b-c3237b2e4e34",
   "metadata": {},
   "outputs": [
    {
     "name": "stdout",
     "output_type": "stream",
     "text": [
      "[08-09 17:22:29][INFO] Resultados del problema (d) usando el método de Euler:\n",
      "[08-09 17:22:29][INFO] t = 0.00, y = 1.0000, exacta = 0.7889, error relativo = 0.2676\n",
      "[08-09 17:22:29][INFO] t = 0.25, y = 1.2500, exacta = 0.9521, error relativo = 0.3129\n",
      "[08-09 17:22:29][INFO] t = 0.50, y = 1.6398, exacta = 1.1433, error relativo = 0.4342\n",
      "[08-09 17:22:29][INFO] t = 0.75, y = 2.0243, exacta = 1.2910, error relativo = 0.5679\n",
      "[08-09 17:22:29][INFO] t = 1.00, y = 2.2365, exacta = 1.3387, error relativo = 0.6706\n"
     ]
    }
   ],
   "source": [
    "def problem_d(t, y):\n",
    "    return cos(2 * t) + sin(3 * t)\n",
    "def exact_d(t):\n",
    "    return (1/5) * sin(2*t) - (1/10) * cos(2*t) - (1/9) * cos(3*t) + (1/27) * sin(3*t) + 1\n",
    "a = 0.0\n",
    "b = 1.0\n",
    "y_t0 = 1.0\n",
    "h = 0.25\n",
    "ys_d, ts_d = ODE_euler(a=a, b=b, f=problem_d, y_t0=y_t0, h=h)\n",
    "logging.info(f\"Resultados del problema (d) usando el método de Euler:\")\n",
    "for t, y in zip(ts_d, ys_d):\n",
    "    exact_y = exact_d(t)\n",
    "    error_relativo = abs((exact_y - y) / exact_y) if exact_y != 0 else float('inf')\n",
    "    logging.info(f\"t = {t:.2f}, y = {y:.4f}, exacta = {exact_y:.4f}, error relativo = {error_relativo:.4f}\")"
   ]
  },
  {
   "cell_type": "markdown",
   "id": "be15880d-5e0f-487a-b0df-42e2d857c2a6",
   "metadata": {},
   "source": [
    "## Utilice el método de Euler para aproximar las soluciones para cada uno de los siguientes problemas de valor inicial."
   ]
  },
  {
   "cell_type": "markdown",
   "id": "4dca9ab5-ebb6-4c70-bd21-c76aeb986dc9",
   "metadata": {},
   "source": [
    "### a)$y' = y/t-(y/t)^2, 1 \\leq t \\leq 2 ,  y(1) = 1$, con $ h = 0.1$ "
   ]
  },
  {
   "cell_type": "code",
   "execution_count": 95,
   "id": "5974b80d-9245-4712-abd9-a001a55d37b7",
   "metadata": {},
   "outputs": [
    {
     "name": "stdout",
     "output_type": "stream",
     "text": [
      "[08-09 17:22:30][INFO] Aproximaciones por el metodo de Euler:\n",
      "[08-09 17:22:30][INFO] t = 1.00, y = 1.0000\n",
      "[08-09 17:22:30][INFO] t = 1.10, y = 1.0000\n",
      "[08-09 17:22:30][INFO] t = 1.20, y = 1.0083\n",
      "[08-09 17:22:30][INFO] t = 1.30, y = 1.0217\n",
      "[08-09 17:22:30][INFO] t = 1.40, y = 1.0385\n",
      "[08-09 17:22:30][INFO] t = 1.50, y = 1.0577\n",
      "[08-09 17:22:30][INFO] t = 1.60, y = 1.0785\n",
      "[08-09 17:22:30][INFO] t = 1.70, y = 1.1004\n",
      "[08-09 17:22:30][INFO] t = 1.80, y = 1.1233\n",
      "[08-09 17:22:30][INFO] t = 1.90, y = 1.1467\n",
      "[08-09 17:22:30][INFO] t = 2.00, y = 1.1707\n"
     ]
    }
   ],
   "source": [
    "f = lambda t, y: (y / t) - (y / t)**2\n",
    "a = 1 \n",
    "b = 2  \n",
    "y_t0 = 1 \n",
    "h = 0.1 \n",
    "ys_b, ts_b = ODE_euler(a=a, b=b, f=f, y_t0=y_t0, h=h)\n",
    "\n",
    "logging.info(f\"Aproximaciones por el metodo de Euler:\")\n",
    "for t, y in zip(ts_b, ys_b):\n",
    "    logging.info(f\"t = {t:.2f}, y = {y:.4f}\")"
   ]
  },
  {
   "cell_type": "markdown",
   "id": "6e54a6fc-bc1f-4355-b98a-f20eb93064a2",
   "metadata": {},
   "source": [
    "### b)$y' = 1+y/t+(y/t)^2, 1 \\leq t \\leq 3 ,  y(1) = 0$, con $ h = 0.2 $"
   ]
  },
  {
   "cell_type": "code",
   "execution_count": 98,
   "id": "4e9da7a1-539b-44b1-aafd-6ac2aa34086c",
   "metadata": {},
   "outputs": [
    {
     "name": "stdout",
     "output_type": "stream",
     "text": [
      "[08-09 17:22:30][INFO] Aproximaciones por el metodo de Euler:\n",
      "[08-09 17:22:30][INFO] t = 1.00, y = 0.0000\n",
      "[08-09 17:22:30][INFO] t = 1.20, y = 0.2000\n",
      "[08-09 17:22:30][INFO] t = 1.40, y = 0.4389\n",
      "[08-09 17:22:30][INFO] t = 1.60, y = 0.7212\n",
      "[08-09 17:22:30][INFO] t = 1.80, y = 1.0520\n",
      "[08-09 17:22:30][INFO] t = 2.00, y = 1.4373\n",
      "[08-09 17:22:30][INFO] t = 2.20, y = 1.8843\n",
      "[08-09 17:22:30][INFO] t = 2.40, y = 2.4023\n",
      "[08-09 17:22:30][INFO] t = 2.60, y = 3.0028\n",
      "[08-09 17:22:30][INFO] t = 2.80, y = 3.7006\n",
      "[08-09 17:22:30][INFO] t = 3.00, y = 4.5143\n"
     ]
    }
   ],
   "source": [
    "f = lambda t, y: 1+y/t+(y/t)**2\n",
    "a = 1 \n",
    "b = 3 \n",
    "y_t0 = 0 \n",
    "h = 0.2 \n",
    "ys_b, ts_b = ODE_euler(a=a, b=b, f=f, y_t0=y_t0, h=h)\n",
    "\n",
    "logging.info(f\"Aproximaciones por el metodo de Euler:\")\n",
    "for t, y in zip(ts_b, ys_b):\n",
    "    logging.info(f\"t = {t:.2f}, y = {y:.4f}\")"
   ]
  },
  {
   "cell_type": "markdown",
   "id": "20b53781-8076-48d7-9014-bb6712e411e3",
   "metadata": {},
   "source": [
    "### c)$y' = -(y+1)(y+3), 0 \\leq t \\leq 2 ,  y(0) = -2$, con $ h = 0.2 $"
   ]
  },
  {
   "cell_type": "code",
   "execution_count": 101,
   "id": "f2a4053d-713e-4eac-a96b-d23e2e3f0aef",
   "metadata": {},
   "outputs": [
    {
     "name": "stdout",
     "output_type": "stream",
     "text": [
      "[08-09 17:22:31][INFO] Aproximaciones por el metodo de Euler:\n",
      "[08-09 17:22:31][INFO] t = 0.00, y = -2.0000\n",
      "[08-09 17:22:31][INFO] t = 0.20, y = -1.8000\n",
      "[08-09 17:22:31][INFO] t = 0.40, y = -1.6080\n",
      "[08-09 17:22:31][INFO] t = 0.60, y = -1.4387\n",
      "[08-09 17:22:31][INFO] t = 0.80, y = -1.3017\n",
      "[08-09 17:22:31][INFO] t = 1.00, y = -1.1993\n",
      "[08-09 17:22:31][INFO] t = 1.20, y = -1.1275\n",
      "[08-09 17:22:31][INFO] t = 1.40, y = -1.0797\n",
      "[08-09 17:22:31][INFO] t = 1.60, y = -1.0491\n",
      "[08-09 17:22:31][INFO] t = 1.80, y = -1.0300\n",
      "[08-09 17:22:31][INFO] t = 2.00, y = -1.0182\n"
     ]
    }
   ],
   "source": [
    "f = lambda t, y: -(y+1)*(y+3)\n",
    "a = 0 \n",
    "b = 2  \n",
    "y_t0 = -2 \n",
    "h = 0.2 \n",
    "ys_b, ts_b = ODE_euler(a=a, b=b, f=f, y_t0=y_t0, h=h)\n",
    "\n",
    "logging.info(f\"Aproximaciones por el metodo de Euler:\")\n",
    "for t, y in zip(ts_b, ys_b):\n",
    "    logging.info(f\"t = {t:.2f}, y = {y:.4f}\")"
   ]
  },
  {
   "cell_type": "markdown",
   "id": "5019b73e-f50e-40ca-abf3-4d7bbab89424",
   "metadata": {},
   "source": [
    "### d)$y' = -5y+5t^2+2t, 0 \\leq t \\leq 1 ,  y(0) = 1/3$, con $ h = 0.1 $"
   ]
  },
  {
   "cell_type": "code",
   "execution_count": 104,
   "id": "3446fc4c-3d8d-4dd9-bc92-3cb83c1a9143",
   "metadata": {},
   "outputs": [
    {
     "name": "stdout",
     "output_type": "stream",
     "text": [
      "[08-09 17:22:32][INFO] Aproximaciones por el metodo de Euler:\n",
      "[08-09 17:22:32][INFO] t = 0.00, y = 0.3333\n",
      "[08-09 17:22:32][INFO] t = 0.10, y = 0.1667\n",
      "[08-09 17:22:32][INFO] t = 0.20, y = 0.1083\n",
      "[08-09 17:22:32][INFO] t = 0.30, y = 0.1142\n",
      "[08-09 17:22:32][INFO] t = 0.40, y = 0.1621\n",
      "[08-09 17:22:32][INFO] t = 0.50, y = 0.2410\n",
      "[08-09 17:22:32][INFO] t = 0.60, y = 0.3455\n",
      "[08-09 17:22:32][INFO] t = 0.70, y = 0.4728\n",
      "[08-09 17:22:32][INFO] t = 0.80, y = 0.6214\n",
      "[08-09 17:22:32][INFO] t = 0.90, y = 0.7907\n",
      "[08-09 17:22:32][INFO] t = 1.00, y = 0.9803\n"
     ]
    }
   ],
   "source": [
    "f = lambda t, y: -5*y+5*t**2+2*t\n",
    "a = 0 \n",
    "b = 1  \n",
    "y_t0 = 1/3 \n",
    "h = 0.1 \n",
    "ys_b, ts_b = ODE_euler(a=a, b=b, f=f, y_t0=y_t0, h=h)\n",
    "\n",
    "logging.info(f\"Aproximaciones por el metodo de Euler:\")\n",
    "for t, y in zip(ts_b, ys_b):\n",
    "    logging.info(f\"t = {t:.2f}, y = {y:.4f}\")"
   ]
  },
  {
   "cell_type": "markdown",
   "id": "ac64b4e0-6382-4a13-ba0e-278f92012f70",
   "metadata": {},
   "source": [
    "## Aquí se dan las soluciones reales para los problemas de valor inicial en el ejercicio 3. Calcule el error real en las aproximaciones del ejercicio 3."
   ]
  },
  {
   "cell_type": "code",
   "execution_count": 107,
   "id": "4f30ef85-8fe2-410f-840d-a5bf04dc4828",
   "metadata": {},
   "outputs": [],
   "source": [
    "from math import log, tan, exp"
   ]
  },
  {
   "cell_type": "markdown",
   "id": "f174f04c-4b5b-4d6f-a5ad-202d2952d8a8",
   "metadata": {},
   "source": [
    "### a) $y(t)=\\frac{t}{1+lnt}$"
   ]
  },
  {
   "cell_type": "code",
   "execution_count": 110,
   "id": "a1f01c3f-8360-4b06-b590-cc9b3473224e",
   "metadata": {},
   "outputs": [
    {
     "name": "stdout",
     "output_type": "stream",
     "text": [
      "[08-09 17:22:33][INFO] Solucion:\n",
      "[08-09 17:22:33][INFO] t = 1.00, y = 1.0000, exacta = 1.0000, error real = 0.0000\n",
      "[08-09 17:22:33][INFO] t = 1.10, y = 1.0000, exacta = 1.0043, error real = 0.0043\n",
      "[08-09 17:22:33][INFO] t = 1.20, y = 1.0083, exacta = 1.0150, error real = 0.0067\n",
      "[08-09 17:22:33][INFO] t = 1.30, y = 1.0217, exacta = 1.0298, error real = 0.0081\n",
      "[08-09 17:22:33][INFO] t = 1.40, y = 1.0385, exacta = 1.0475, error real = 0.0090\n",
      "[08-09 17:22:33][INFO] t = 1.50, y = 1.0577, exacta = 1.0673, error real = 0.0096\n",
      "[08-09 17:22:33][INFO] t = 1.60, y = 1.0785, exacta = 1.0884, error real = 0.0100\n",
      "[08-09 17:22:33][INFO] t = 1.70, y = 1.1004, exacta = 1.1107, error real = 0.0102\n",
      "[08-09 17:22:33][INFO] t = 1.80, y = 1.1233, exacta = 1.1337, error real = 0.0104\n",
      "[08-09 17:22:33][INFO] t = 1.90, y = 1.1467, exacta = 1.1572, error real = 0.0105\n",
      "[08-09 17:22:33][INFO] t = 2.00, y = 1.1707, exacta = 1.1812, error real = 0.0106\n"
     ]
    }
   ],
   "source": [
    "f = lambda t, y: (y / t) - (y / t)**2\n",
    "exact_a = lambda t: t / (1 + log(t))\n",
    "a = 1.0\n",
    "b = 2.0\n",
    "y_t0 = 1.0\n",
    "h = 0.1\n",
    "ys_a, ts_a = ODE_euler(a=a, b=b, f=f, y_t0=y_t0, h=h)\n",
    "logging.info(f\"Solucion:\")\n",
    "for t, y in zip(ts_a, ys_a):\n",
    "    exact_y = exact_a(t)\n",
    "    error_real = abs(exact_y - y)\n",
    "    logging.info(f\"t = {t:.2f}, y = {y:.4f}, exacta = {exact_y:.4f}, error real = {error_real:.4f}\")"
   ]
  },
  {
   "cell_type": "markdown",
   "id": "7e67a686-747e-4c28-8b02-929e8eaf3c69",
   "metadata": {},
   "source": [
    "### b) $y(t)=t *tan(ln t)$"
   ]
  },
  {
   "cell_type": "code",
   "execution_count": 113,
   "id": "e3aa9cae-b9c7-4277-a0f0-9105ac651a8d",
   "metadata": {},
   "outputs": [
    {
     "name": "stdout",
     "output_type": "stream",
     "text": [
      "[08-09 17:22:34][INFO] Solucion:\n",
      "[08-09 17:22:34][INFO] t = 1.00, y = 0.0000, exacta = 0.0000, error real = 0.0000\n",
      "[08-09 17:22:34][INFO] t = 1.20, y = 0.2000, exacta = 0.2212, error real = 0.0212\n",
      "[08-09 17:22:34][INFO] t = 1.40, y = 0.4389, exacta = 0.4897, error real = 0.0508\n",
      "[08-09 17:22:34][INFO] t = 1.60, y = 0.7212, exacta = 0.8128, error real = 0.0915\n",
      "[08-09 17:22:34][INFO] t = 1.80, y = 1.0520, exacta = 1.1994, error real = 0.1474\n",
      "[08-09 17:22:34][INFO] t = 2.00, y = 1.4373, exacta = 1.6613, error real = 0.2240\n",
      "[08-09 17:22:34][INFO] t = 2.20, y = 1.8843, exacta = 2.2135, error real = 0.3292\n",
      "[08-09 17:22:34][INFO] t = 2.40, y = 2.4023, exacta = 2.8766, error real = 0.4743\n",
      "[08-09 17:22:34][INFO] t = 2.60, y = 3.0028, exacta = 3.6785, error real = 0.6756\n",
      "[08-09 17:22:34][INFO] t = 2.80, y = 3.7006, exacta = 4.6587, error real = 0.9581\n",
      "[08-09 17:22:34][INFO] t = 3.00, y = 4.5143, exacta = 5.8741, error real = 1.3598\n"
     ]
    }
   ],
   "source": [
    "f = lambda t, y: 1+y/t+(y/t)**2\n",
    "exact_a = lambda t: t * tan(log(t))\n",
    "a = 1.0\n",
    "b = 3\n",
    "y_t0 = 0\n",
    "h = 0.2\n",
    "ys_a, ts_a = ODE_euler(a=a, b=b, f=f, y_t0=y_t0, h=h)\n",
    "logging.info(f\"Solucion:\")\n",
    "for t, y in zip(ts_a, ys_a):\n",
    "    exact_y = exact_a(t)\n",
    "    error_real = abs(exact_y - y)\n",
    "    logging.info(f\"t = {t:.2f}, y = {y:.4f}, exacta = {exact_y:.4f}, error real = {error_real:.4f}\")"
   ]
  },
  {
   "cell_type": "markdown",
   "id": "89569032-f20f-4dbd-900a-ba5547bbca7c",
   "metadata": {},
   "source": [
    "### c) $y(t)=-3+\\frac{2}{1+e^{-2t}}$"
   ]
  },
  {
   "cell_type": "code",
   "execution_count": 116,
   "id": "ed11b2be-9d71-4661-aacb-cad04a25306a",
   "metadata": {},
   "outputs": [
    {
     "name": "stdout",
     "output_type": "stream",
     "text": [
      "[08-09 17:22:34][INFO] Solucion:\n",
      "[08-09 17:22:34][INFO] t = 0.00, y = -2.0000, exacta = -2.0000, error real = 0.0000\n",
      "[08-09 17:22:34][INFO] t = 0.20, y = -1.8000, exacta = -1.8026, error real = 0.0026\n",
      "[08-09 17:22:34][INFO] t = 0.40, y = -1.6080, exacta = -1.6201, error real = 0.0121\n",
      "[08-09 17:22:34][INFO] t = 0.60, y = -1.4387, exacta = -1.4630, error real = 0.0242\n",
      "[08-09 17:22:34][INFO] t = 0.80, y = -1.3017, exacta = -1.3360, error real = 0.0342\n",
      "[08-09 17:22:34][INFO] t = 1.00, y = -1.1993, exacta = -1.2384, error real = 0.0392\n",
      "[08-09 17:22:34][INFO] t = 1.20, y = -1.1275, exacta = -1.1663, error real = 0.0389\n",
      "[08-09 17:22:34][INFO] t = 1.40, y = -1.0797, exacta = -1.1146, error real = 0.0349\n",
      "[08-09 17:22:34][INFO] t = 1.60, y = -1.0491, exacta = -1.0783, error real = 0.0292\n",
      "[08-09 17:22:34][INFO] t = 1.80, y = -1.0300, exacta = -1.0532, error real = 0.0232\n",
      "[08-09 17:22:34][INFO] t = 2.00, y = -1.0182, exacta = -1.0360, error real = 0.0178\n"
     ]
    }
   ],
   "source": [
    "f = lambda t, y: -(y+1)*(y+3)\n",
    "exact_a = lambda t: -3+2/(1+exp(-2*t))\n",
    "a = 0\n",
    "b = 2\n",
    "y_t0 = -2\n",
    "h = 0.2\n",
    "ys_a, ts_a = ODE_euler(a=a, b=b, f=f, y_t0=y_t0, h=h)\n",
    "logging.info(f\"Solucion:\")\n",
    "for t, y in zip(ts_a, ys_a):\n",
    "    exact_y = exact_a(t)\n",
    "    error_real = abs(exact_y - y)\n",
    "    logging.info(f\"t = {t:.2f}, y = {y:.4f}, exacta = {exact_y:.4f}, error real = {error_real:.4f}\")"
   ]
  },
  {
   "cell_type": "markdown",
   "id": "cf015146-9be7-40bc-81bb-8b26fc6b0bd1",
   "metadata": {},
   "source": [
    "### d) $y(t)=t^2+\\frac{1}{3}e^{-5t}$"
   ]
  },
  {
   "cell_type": "code",
   "execution_count": 119,
   "id": "a412a78a-954e-4941-bbc5-1b8975b06493",
   "metadata": {},
   "outputs": [
    {
     "name": "stdout",
     "output_type": "stream",
     "text": [
      "[08-09 17:22:34][INFO] Solucion:\n",
      "[08-09 17:22:34][INFO] t = 0.00, y = 0.3333, exacta = 0.3333, error real = 0.0000\n",
      "[08-09 17:22:34][INFO] t = 0.10, y = 0.1667, exacta = 0.2122, error real = 0.0455\n",
      "[08-09 17:22:34][INFO] t = 0.20, y = 0.1083, exacta = 0.1626, error real = 0.0543\n",
      "[08-09 17:22:34][INFO] t = 0.30, y = 0.1142, exacta = 0.1644, error real = 0.0502\n",
      "[08-09 17:22:34][INFO] t = 0.40, y = 0.1621, exacta = 0.2051, error real = 0.0430\n",
      "[08-09 17:22:34][INFO] t = 0.50, y = 0.2410, exacta = 0.2774, error real = 0.0363\n",
      "[08-09 17:22:34][INFO] t = 0.60, y = 0.3455, exacta = 0.3766, error real = 0.0311\n",
      "[08-09 17:22:34][INFO] t = 0.70, y = 0.4728, exacta = 0.5001, error real = 0.0273\n",
      "[08-09 17:22:34][INFO] t = 0.80, y = 0.6214, exacta = 0.6461, error real = 0.0247\n",
      "[08-09 17:22:34][INFO] t = 0.90, y = 0.7907, exacta = 0.8137, error real = 0.0230\n",
      "[08-09 17:22:34][INFO] t = 1.00, y = 0.9803, exacta = 1.0022, error real = 0.0219\n"
     ]
    }
   ],
   "source": [
    "f = lambda t, y: -5*y+5*t**2+2*t\n",
    "exact_a = lambda t: t**2+1/3*exp(-5*t)\n",
    "a = 0\n",
    "b = 1\n",
    "y_t0 =1/3\n",
    "h = 0.1\n",
    "ys_a, ts_a = ODE_euler(a=a, b=b, f=f, y_t0=y_t0, h=h)\n",
    "logging.info(f\"Solucion:\")\n",
    "for t, y in zip(ts_a, ys_a):\n",
    "    exact_y = exact_a(t)\n",
    "    error_real = abs(exact_y - y)\n",
    "    logging.info(f\"t = {t:.2f}, y = {y:.4f}, exacta = {exact_y:.4f}, error real = {error_real:.4f}\")"
   ]
  },
  {
   "cell_type": "markdown",
   "id": "bf3a233d-818d-4f97-961e-e1c32cec3aff",
   "metadata": {},
   "source": [
    "## Utilice los resultados del ejercicio 3 y la interpolación lineal para aproximar los siguientes valores de 𝑦(𝑡). Compare las aproximaciones asignadas para los valores reales obtenidos mediante las funciones determinadas en el ejercicio 4."
   ]
  },
  {
   "cell_type": "code",
   "execution_count": 173,
   "id": "7d868b87-34e7-44e6-afb6-6ae87728f8a2",
   "metadata": {},
   "outputs": [],
   "source": [
    "def interpolate_linear(ts: List[float], ys: List[float], t: float) -> float:\n",
    "    if t < ts[0] or t > ts[-1]:\n",
    "        raise ValueError(\"El valor t está fuera del rango de los datos\")\n",
    "    \n",
    "    for i in range(len(ts) - 1):\n",
    "        if ts[i] <= t <= ts[i + 1]:\n",
    "            t0, y0 = ts[i], ys[i]\n",
    "            t1, y1 = ts[i + 1], ys[i + 1]\n",
    "            return y0 + (t - t0) / (t1 - t0) * (y1 - y0)\n",
    "    if t < ts[0]:\n",
    "        return ys[0]\n",
    "    else:\n",
    "        return ys[-1]\n",
    "def real_a(t: float) -> float:\n",
    "    return t / (1 + log(t))\n",
    "\n",
    "def real_b(t: float) -> float:\n",
    "    return t * tan(log(t))\n",
    "\n",
    "def real_c(t: float) -> float:\n",
    "    return -3 + 2 / (1 + exp(-2 * t))\n",
    "\n",
    "def real_d(t: float) -> float:\n",
    "    return t ** 2 + (1 / 3) * exp(-5 * t)\n",
    "def interpolate_and_compare(ts: List[float], ys: List[float], t_values: List[float], real_func: Callable[[float], float]):\n",
    "    results = []\n",
    "    for t in t_values:\n",
    "        try:\n",
    "            interpolated_y = interpolate_linear(ts, ys, t)\n",
    "            real_y = real_func(t)\n",
    "            error = abs(real_y - interpolated_y)\n",
    "            results.append((t, interpolated_y, real_y, error))\n",
    "        except ValueError as e:\n",
    "            logging.error(f\"Error en la interpolación: {e}\")\n",
    "            results.append((t, None, real_func(t), None))\n",
    "    return results"
   ]
  },
  {
   "cell_type": "markdown",
   "id": "1a0340ad-5d25-492d-a7fd-e780826f1932",
   "metadata": {},
   "source": [
    "### a) $y(0.25)$ y $y(0.93)$"
   ]
  },
  {
   "cell_type": "code",
   "execution_count": 176,
   "id": "d32c6d0e-ad1b-44d0-84c3-9b68b5bdaab8",
   "metadata": {},
   "outputs": [
    {
     "name": "stdout",
     "output_type": "stream",
     "text": [
      "[08-09 17:26:02][INFO] Resultados de interpolación y comparación con valores reales:\n",
      "[08-09 17:26:02][INFO] Problema (a): t = 1.25, Interpolado = 1.014977, Real = 1.021957, Error = 0.006980\n",
      "[08-09 17:26:02][INFO] Problema (a): t = 1.93, Interpolado = 1.153902, Real = 1.164390, Error = 0.010488\n"
     ]
    }
   ],
   "source": [
    "a, b = 1.0, 2.0\n",
    "y_t0 = 1.0\n",
    "h = 0.1\n",
    "f = lambda t, y: (y / t) - (y / t) ** 2\n",
    "ys_a, ts_a = ODE_euler(a=a, b=b, f=f, y_t0=y_t0, h=h)\n",
    "t_values_a = [1.25, 1.93]\n",
    "results_a = interpolate_and_compare(ts_a, ys_a, t_values_a, real_a)\n",
    "logging.info(\"Resultados de interpolación y comparación con valores reales:\")\n",
    "for t, interpolated, real, error in results_a:\n",
    "    if interpolated is not None:\n",
    "        logging.info(f\"Problema (a): t = {t:.2f}, Interpolado = {interpolated:.6f}, Real = {real:.6f}, Error = {error:.6f}\")\n",
    "    else:\n",
    "        logging.info(f\"Problema (a): t = {t:.2f}, Interpolado = N/A, Real = {real:.6f}, Error = N/A\")"
   ]
  },
  {
   "cell_type": "markdown",
   "id": "0400bacd-3bac-4b49-9e4b-9c1069a23bbe",
   "metadata": {},
   "source": [
    "### b) $y(t)=y(1.25)$ y $y(1.93)$"
   ]
  },
  {
   "cell_type": "code",
   "execution_count": 179,
   "id": "17d0f0af-50f4-410d-a6a4-c655f70fab47",
   "metadata": {},
   "outputs": [
    {
     "name": "stdout",
     "output_type": "stream",
     "text": [
      "[08-09 17:26:03][INFO] Resultados de interpolación y comparación con valores reales:\n",
      "[08-09 17:26:03][INFO] Problema (b): t = 1.25, Interpolado = 0.259722, Real = 0.283653, Error = 0.023931\n",
      "[08-09 17:26:03][INFO] Problema (b): t = 1.93, Interpolado = 1.302427, Real = 1.490228, Error = 0.187801\n"
     ]
    }
   ],
   "source": [
    "a, b = 1.0, 3.0\n",
    "y_t0 = 0\n",
    "h = 0.2\n",
    "f = lambda t, y: 1 + y/t+(y/t)**2\n",
    "ys_b, ts_b = ODE_euler(a=a, b=b, f=f, y_t0=y_t0, h=h)\n",
    "t_values_b = [1.25, 1.93]\n",
    "results_b = interpolate_and_compare(ts_b, ys_b, t_values_b, real_b)\n",
    "\n",
    "logging.info(\"Resultados de interpolación y comparación con valores reales:\")\n",
    "\n",
    "for t, interpolated, real, error in results_b:\n",
    "    if interpolated is not None:\n",
    "        logging.info(f\"Problema (b): t = {t:.2f}, Interpolado = {interpolated:.6f}, Real = {real:.6f}, Error = {error:.6f}\")\n",
    "    else:\n",
    "        logging.info(f\"Problema (b): t = {t:.2f}, Interpolado = N/A, Real = {real:.6f}, Error = N/A\")\n"
   ]
  },
  {
   "cell_type": "markdown",
   "id": "9bb142bf-79a0-47e8-9fc6-34a3d8ceb57d",
   "metadata": {},
   "source": [
    "### c) $y(2.10)$ y $y(2.75)$"
   ]
  },
  {
   "cell_type": "code",
   "execution_count": 182,
   "id": "75aa3654-86d7-4bc9-a919-8df977c762a4",
   "metadata": {},
   "outputs": [
    {
     "name": "stdout",
     "output_type": "stream",
     "text": [
      "[08-09 17:26:04][INFO] Resultados de interpolación y comparación con valores reales:\n",
      "[08-09 17:26:04][INFO] Problema (c): t = 1.30, Interpolado = -1.103618, Real = -1.138277, Error = 0.034659\n",
      "[08-09 17:26:04][INFO] Problema (c): t = 1.93, Interpolado = -1.022283, Real = -1.041267, Error = 0.018984\n"
     ]
    }
   ],
   "source": [
    "a, b = 0, 2.0\n",
    "y_t0 = -2.0\n",
    "h = 0.2\n",
    "f = lambda t, y: -(y + 1)*(y + 3)\n",
    "ys_c, ts_c = ODE_euler(a=a, b=b, f=f, y_t0=y_t0, h=h)\n",
    "t_values_c = [1.3, 1.93]\n",
    "results_c = interpolate_and_compare(ts_c, ys_c, t_values_c, real_c)\n",
    "logging.info(\"Resultados de interpolación y comparación con valores reales:\")\n",
    "for t, interpolated, real, error in results_c:\n",
    "    if interpolated is not None:\n",
    "        logging.info(f\"Problema (c): t = {t:.2f}, Interpolado = {interpolated:.6f}, Real = {real:.6f}, Error = {error:.6f}\")\n",
    "    else:\n",
    "        logging.info(f\"Problema (c): t = {t:.2f}, Interpolado = N/A, Real = {real:.6f}, Error = N/A\")"
   ]
  },
  {
   "cell_type": "markdown",
   "id": "23c9f2ad-831c-40cc-b3de-0c7c5214bec3",
   "metadata": {},
   "source": [
    "### d) $y(t)=y(0.54)$ y $y(0.94)$"
   ]
  },
  {
   "cell_type": "code",
   "execution_count": 185,
   "id": "c6401813-e4ff-486d-bed7-21b301489be4",
   "metadata": {},
   "outputs": [
    {
     "name": "stdout",
     "output_type": "stream",
     "text": [
      "[08-09 17:26:04][INFO] Resultados de interpolación y comparación con valores reales:\n",
      "[08-09 17:26:04][INFO] Problema (d): t = 0.54, Interpolado = 0.282833, Real = 0.314002, Error = 0.031169\n",
      "[08-09 17:26:04][INFO] Problema (d): t = 0.94, Interpolado = 0.866552, Real = 0.886632, Error = 0.020080\n"
     ]
    }
   ],
   "source": [
    "a, b = 0.0, 1.0\n",
    "y_t0 = 1/3\n",
    "h = 0.1\n",
    "f = lambda t, y: -5*y+5*t**2+2*t\n",
    "ys_d, ts_d = ODE_euler(a=a, b=b, f=f, y_t0=y_t0, h=h)\n",
    "t_values_d = [0.54, 0.94]\n",
    "results_d = interpolate_and_compare(ts_d, ys_d, t_values_d, real_d)\n",
    "logging.info(\"Resultados de interpolación y comparación con valores reales:\")\n",
    "for t, interpolated, real, error in results_d:\n",
    "    if interpolated is not None:\n",
    "        logging.info(f\"Problema (d): t = {t:.2f}, Interpolado = {interpolated:.6f}, Real = {real:.6f}, Error = {error:.6f}\")\n",
    "    else:\n",
    "        logging.info(f\"Problema (d): t = {t:.2f}, Interpolado = N/A, Real = {real:.6f}, Error = N/A\")"
   ]
  },
  {
   "cell_type": "markdown",
   "id": "af7f2261-3690-40f4-9021-59ced755df69",
   "metadata": {},
   "source": [
    "## Use el método de Taylor de orden 2 para aproximar las soluciones para cada uno de los siguientes problemas de valor inicial."
   ]
  },
  {
   "cell_type": "code",
   "execution_count": 188,
   "id": "4fd9ee10-0b22-4a9b-8f57-afb8806aa96c",
   "metadata": {},
   "outputs": [],
   "source": [
    "def ODE_euler_nth(\n",
    "    *,\n",
    "    a: float,\n",
    "    b: float,\n",
    "    f: Callable[[float, float], float],\n",
    "    f_derivatives: List[Callable[[float, float], float]],\n",
    "    y_t0: float,\n",
    "    N: int\n",
    ") -> tuple[list[float], list[float], float]:\n",
    "    h = (b - a) / N\n",
    "    t = a\n",
    "    ts = [t]\n",
    "    ys = [y_t0]\n",
    "\n",
    "    for _ in range(N):\n",
    "        y = ys[-1]\n",
    "        T = f(t, y)\n",
    "        ders = [\n",
    "            h / factorial(m + 2) * mth_derivative(t, y)\n",
    "            for m, mth_derivative in enumerate(f_derivatives)\n",
    "        ]\n",
    "        T += sum(ders)\n",
    "        y += h * T\n",
    "        ys.append(y)\n",
    "\n",
    "        t += h\n",
    "        ts.append(t)\n",
    "    return ys, ts, h"
   ]
  },
  {
   "cell_type": "markdown",
   "id": "4ec85ca0-f232-40b6-9111-bed0d1e98766",
   "metadata": {},
   "source": [
    "### a)$y' = te^{3t}-2y, 0 \\leq t \\leq 1 ,  y(0) = 0$, con $ h = 0.5 $"
   ]
  },
  {
   "cell_type": "code",
   "execution_count": 191,
   "id": "b8687338-01e0-483f-9d07-97bb78e4bf72",
   "metadata": {},
   "outputs": [
    {
     "name": "stdout",
     "output_type": "stream",
     "text": [
      "Problema a:\n",
      "h = 0.5\n",
      "t: [0, 0.5, 1.0]\n",
      "y: [0, 0.125, 2.0232389682729033]\n",
      "\n"
     ]
    }
   ],
   "source": [
    "f = lambda t, y: t * exp(3 * t) - 2 * y\n",
    "f_p = lambda t, y: exp(3 * t) * (3 * t + 1) - 2 * (t * exp(3 * t) - 2 * y)\n",
    "\n",
    "y_t0 = 0\n",
    "a = 0\n",
    "b = 1\n",
    "\n",
    "ys_nth, ts_nth, h = ODE_euler_nth(a=a, b=b, y_t0=y_t0, f=f, N=2, f_derivatives=[f_p])\n",
    "print(\"Problema a:\")\n",
    "print(f\"h = {h}\")\n",
    "print(f\"t: {ts_nth}\")\n",
    "print(f\"y: {ys_nth}\")\n",
    "print()\n"
   ]
  },
  {
   "cell_type": "markdown",
   "id": "6bdcfd8b-0ddc-40d2-9e12-75c5c1af3826",
   "metadata": {},
   "source": [
    "### b) $y' =1+(t-y)^2,2 \\leq t \\leq 3,  y(2) = 1$, con $ h = 0.5$"
   ]
  },
  {
   "cell_type": "code",
   "execution_count": 194,
   "id": "13b0289d-dcd9-4656-bce6-f75290b6e89a",
   "metadata": {},
   "outputs": [
    {
     "name": "stdout",
     "output_type": "stream",
     "text": [
      "Problema a:\n",
      "h = 0.5\n",
      "t: [2, 2.5, 3.0]\n",
      "y: [1, 1.5, 2.0]\n",
      "\n"
     ]
    }
   ],
   "source": [
    "f = lambda t, y: 1 + (t - y) ** 2\n",
    "f_p = lambda t, y: -2 * (t - y) * (1 + (t - y) ** 2)\n",
    "\n",
    "y_t0 = 1\n",
    "a = 2\n",
    "b = 3\n",
    "\n",
    "ys_nth, ts_nth, h = ODE_euler_nth(a=a, b=b, y_t0=y_t0, f=f, N=2, f_derivatives=[f_p])\n",
    "print(\"Problema a:\")\n",
    "print(f\"h = {h}\")\n",
    "print(f\"t: {ts_nth}\")\n",
    "print(f\"y: {ys_nth}\")\n",
    "print()"
   ]
  },
  {
   "cell_type": "markdown",
   "id": "0075bb86-cf26-416f-9ef5-a2d47699ef66",
   "metadata": {},
   "source": [
    "### c)$y' = 1+y/t, 1 \\leq t \\leq 2 ,  y(1) = 2$, con $ h = 0.25$"
   ]
  },
  {
   "cell_type": "code",
   "execution_count": 197,
   "id": "7393b390-78c2-4bcc-a6bd-cd2e8f9dac78",
   "metadata": {},
   "outputs": [
    {
     "name": "stdout",
     "output_type": "stream",
     "text": [
      "Problema a:\n",
      "h = 0.25\n",
      "t: [1, 1.25, 1.5, 1.75, 2.0]\n",
      "y: [2, 2.71875, 3.483125, 4.286102430555555, 5.122524181547619]\n",
      "\n"
     ]
    }
   ],
   "source": [
    "f = lambda t, y: 1 + y / t\n",
    "f_p = lambda t, y: -y / t**2 + 1 / t\n",
    "\n",
    "y_t0 = 2\n",
    "a = 1\n",
    "b = 2\n",
    "\n",
    "ys_nth, ts_nth, h = ODE_euler_nth(a=a, b=b, y_t0=y_t0, f=f, N=4, f_derivatives=[f_p])\n",
    "print(\"Problema a:\")\n",
    "print(f\"h = {h}\")\n",
    "print(f\"t: {ts_nth}\")\n",
    "print(f\"y: {ys_nth}\")\n",
    "print()"
   ]
  },
  {
   "cell_type": "markdown",
   "id": "be6f8523-24f8-49d8-b2c6-3366cdaf190e",
   "metadata": {},
   "source": [
    "### d)$y' = cos(2t)+sen(3t), 0 \\leq t \\leq 1 ,  y(0) = 1$, con $ h = 0.25 $"
   ]
  },
  {
   "cell_type": "code",
   "execution_count": 200,
   "id": "9a4b396a-687c-42bc-b10b-4ce776fdb0c6",
   "metadata": {},
   "outputs": [
    {
     "name": "stdout",
     "output_type": "stream",
     "text": [
      "Problema a:\n",
      "h = 0.25\n",
      "t: [0, 0.25, 0.5, 0.75, 1.0]\n",
      "y: [1, 1.34375, 1.7721870657725847, 2.110676064996487, 2.201643950842383]\n",
      "\n"
     ]
    }
   ],
   "source": [
    "f = lambda t, y: cos(2 * t) + sin(3 * t)\n",
    "f_p = lambda t, y: -2 * sin(2 * t) + 3 * cos(3 * t)\n",
    "\n",
    "y_t0 = 1\n",
    "a = 0\n",
    "b = 1\n",
    "\n",
    "ys_nth, ts_nth, h = ODE_euler_nth(a=a, b=b, y_t0=y_t0, f=f, N=4, f_derivatives=[f_p])\n",
    "print(\"Problema a:\")\n",
    "print(f\"h = {h}\")\n",
    "print(f\"t: {ts_nth}\")\n",
    "print(f\"y: {ys_nth}\")\n",
    "print()"
   ]
  },
  {
   "cell_type": "markdown",
   "id": "852061ed-46b9-4ef3-8356-cd3437dce468",
   "metadata": {},
   "source": [
    "## Repita el ejercicio 6 con el método de Taylor de orden 4."
   ]
  },
  {
   "cell_type": "code",
   "execution_count": 203,
   "id": "20bd3825-a99c-4020-a93a-6cf5feb72af3",
   "metadata": {},
   "outputs": [
    {
     "name": "stdout",
     "output_type": "stream",
     "text": [
      "Problema a:\n",
      "h = 0.5\n",
      "t: [0, 0.5, 1.0]\n",
      "y: [0, 0.18489583333333331, 2.3041147886173525]\n",
      "\n",
      "Problema b:\n",
      "h = 0.5\n",
      "t: [2, 2.5, 3.0]\n",
      "y: [1, 1.6458333333333333, 2.2593370602454668]\n",
      "\n",
      "Problema c:\n",
      "h = 0.25\n",
      "t: [1, 1.25, 1.5, 1.75, 2.0]\n",
      "y: [2, 2.7249348958333335, 3.4950996961805556, 4.303565100742335, 5.145247904523946]\n",
      "\n",
      "Problema d:\n",
      "h = 0.25\n",
      "t: [0, 0.25, 0.5, 0.75, 1.0]\n",
      "y: [1, 1.3289388020833333, 1.7296672968020275, 2.039934166759473, 2.1159884664152244]\n",
      "\n"
     ]
    }
   ],
   "source": [
    "from math import exp, cos, sin, factorial\n",
    "from typing import Callable, List\n",
    "\n",
    "# Definir las funciones y derivadas para cada problema\n",
    "\n",
    "# a) y' = t * e^(3t) - 2y, y(0) = 0, h = 0.5\n",
    "def f_a(t: float, y: float) -> float:\n",
    "    return t * exp(3 * t) - 2 * y\n",
    "\n",
    "def df_a(t: float, y: float) -> float:\n",
    "    return exp(3 * t) * (3 * t + 1) - 2 * (t * exp(3 * t) - 2 * y)\n",
    "\n",
    "def ddf_a(t: float, y: float) -> float:\n",
    "    return 3 * exp(3 * t) * (3 * t + 2) - 2 * (exp(3 * t) * (3 * t + 1))\n",
    "\n",
    "def dddf_a(t: float, y: float) -> float:\n",
    "    return 9 * exp(3 * t) * (3 * t + 3) - 6 * (3 * exp(3 * t) * (3 * t + 2))\n",
    "\n",
    "\n",
    "# b) y' = 1 + (t - y)^2, y(2) = 1, h = 0.5\n",
    "def f_b(t: float, y: float) -> float:\n",
    "    return 1 + (t - y) ** 2\n",
    "\n",
    "def df_b(t: float, y: float) -> float:\n",
    "    return -2 * (t - y) * (1 + (t - y) ** 2)\n",
    "\n",
    "def ddf_b(t: float, y: float) -> float:\n",
    "    return 2 * (1 + (t - y) ** 2) - 2 * (t - y) * (-2 * (t - y))\n",
    "\n",
    "def dddf_b(t: float, y: float) -> float:\n",
    "    return 12 * (t - y) * (-2 * (t - y)) + 8 * (t - y) * (1 + (t - y) ** 2)\n",
    "\n",
    "\n",
    "# c) y' = 1 + y / t, y(1) = 2, h = 0.25\n",
    "def f_c(t: float, y: float) -> float:\n",
    "    return 1 + y / t\n",
    "\n",
    "def df_c(t: float, y: float) -> float:\n",
    "    return -y / t**2 + 1 / t\n",
    "\n",
    "def ddf_c(t: float, y: float) -> float:\n",
    "    return 2 * y / t**3 - 1 / t**2\n",
    "\n",
    "def dddf_c(t: float, y: float) -> float:\n",
    "    return -6 * y / t**4 + 2 / t**3\n",
    "\n",
    "\n",
    "# d) y' = cos(2t) + sin(3t), y(0) = 1, h = 0.25\n",
    "def f_d(t: float, y: float) -> float:\n",
    "    return cos(2 * t) + sin(3 * t)\n",
    "\n",
    "def df_d(t: float, y: float) -> float:\n",
    "    return -2 * sin(2 * t) + 3 * cos(3 * t)\n",
    "\n",
    "def ddf_d(t: float, y: float) -> float:\n",
    "    return -4 * cos(2 * t) - 9 * sin(3 * t)\n",
    "\n",
    "def dddf_d(t: float, y: float) -> float:\n",
    "    return 8 * sin(2 * t) - 27 * cos(3 * t)\n",
    "\n",
    "\n",
    "# Método de Taylor de orden 4\n",
    "def ODE_euler_nth(\n",
    "    *,\n",
    "    a: float,\n",
    "    b: float,\n",
    "    f: Callable[[float, float], float],\n",
    "    f_derivatives: List[Callable[[float, float], float]],\n",
    "    y_t0: float,\n",
    "    N: int\n",
    ") -> tuple[list[float], list[float], float]:\n",
    "    h = (b - a) / N\n",
    "    t = a\n",
    "    ts = [t]\n",
    "    ys = [y_t0]\n",
    "\n",
    "    for _ in range(N):\n",
    "        y = ys[-1]\n",
    "        T = f(t, y)\n",
    "        ders = [\n",
    "            h ** (m + 1) / factorial(m + 2) * mth_derivative(t, y)\n",
    "            for m, mth_derivative in enumerate(f_derivatives)\n",
    "        ]\n",
    "        T += sum(ders)\n",
    "        y += h * T\n",
    "        ys.append(y)\n",
    "\n",
    "        t += h\n",
    "        ts.append(t)\n",
    "    return ys, ts, h\n",
    "problems = [\n",
    "    {\"a\": 0, \"b\": 1, \"f\": f_a, \"f_derivatives\": [df_a, ddf_a, dddf_a], \"y_t0\": 0, \"N\": 2},   # h = 0.5\n",
    "    {\"a\": 2, \"b\": 3, \"f\": f_b, \"f_derivatives\": [df_b, ddf_b, dddf_b], \"y_t0\": 1, \"N\": 2},   # h = 0.5\n",
    "    {\"a\": 1, \"b\": 2, \"f\": f_c, \"f_derivatives\": [df_c, ddf_c, dddf_c], \"y_t0\": 2, \"N\": 4},   # h = 0.25\n",
    "    {\"a\": 0, \"b\": 1, \"f\": f_d, \"f_derivatives\": [df_d, ddf_d, dddf_d], \"y_t0\": 1, \"N\": 4},   # h = 0.25\n",
    "]\n",
    "results = [ODE_euler_nth(**problem) for problem in problems]\n",
    "\n",
    "for i, (ys, ts, h) in enumerate(results):\n",
    "    print(f\"Problema {chr(97 + i)}:\")\n",
    "    print(f\"h = {h}\")\n",
    "    print(f\"t: {ts}\")\n",
    "    print(f\"y: {ys}\")\n",
    "    print()\n"
   ]
  }
 ],
 "metadata": {
  "kernelspec": {
   "display_name": "Python 3 (ipykernel)",
   "language": "python",
   "name": "python3"
  },
  "language_info": {
   "codemirror_mode": {
    "name": "ipython",
    "version": 3
   },
   "file_extension": ".py",
   "mimetype": "text/x-python",
   "name": "python",
   "nbconvert_exporter": "python",
   "pygments_lexer": "ipython3",
   "version": "3.11.7"
  }
 },
 "nbformat": 4,
 "nbformat_minor": 5
}
